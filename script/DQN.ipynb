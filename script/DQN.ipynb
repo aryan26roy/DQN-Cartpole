{
 "cells": [
  {
   "cell_type": "code",
   "execution_count": 1,
   "metadata": {},
   "outputs": [],
   "source": [
    "import numpy as np\n",
    "import tensorflow as tf\n",
    "import gym\n",
    "import os\n",
    "import datetime\n",
    "from gym import wrappers\n"
   ]
  },
  {
   "cell_type": "code",
   "execution_count": 2,
   "metadata": {},
   "outputs": [],
   "source": [
    "class theModel(tf.keras.Model):\n",
    "    def __init__(self,n_states,hidden_units,n_actions):#model definition\n",
    "        super(theModel,self).__init__()\n",
    "        self.input_layer = tf.keras.layers.InputLayer(input_shape=(n_states,))\n",
    "        self.hidden_layers = []\n",
    "        for i in hidden_units:\n",
    "            self.hidden_layers.append(tf.keras.layers.Dense(i, activation = 'tanh',kernel_initializer = 'RandomNormal'))\n",
    "        self.output_layer = tf.keras.layers.Dense(n_actions, activation = 'linear', kernel_initializer = 'RandomNormal')\n",
    "    @tf.function\n",
    "    def call(self, inputs):#the forward pass of the neural network\n",
    "        z = self.input_layer(inputs)\n",
    "        for layer in self.hidden_layers:\n",
    "            z = layer(z)\n",
    "        output = self.output_layer(z)\n",
    "        return output"
   ]
  },
  {
   "cell_type": "code",
   "execution_count": 3,
   "metadata": {},
   "outputs": [],
   "source": [
    "class rl_DQN:\n",
    "    def __init__(self, n_states, n_actions, hidden_units, gamma,max_experiences, min_experiences, batch_size, lr):\n",
    "        self.n_actions = n_actions\n",
    "        self.batch_size = batch_size\n",
    "        self.optimizer = tf.optimizers.Adam(lr)\n",
    "        self.gamma = gamma\n",
    "        self.model = theModel(n_states, hidden_units, n_actions)\n",
    "        self.experience = {'s': [], 'a': [], 'r' : [], 's2': [], 'done': []}#experience buffer\n",
    "        self.max_experiences = max_experiences\n",
    "        self.min_experiences = min_experiences\n",
    "    def predict(self, inputs):\n",
    "        return self.model(np.atleast_2d(inputs.astype('float32')))#predict the next q-value\n",
    "    def get_action(self, states, epsilon):\n",
    "        if np.random.random()< epsilon:\n",
    "            return np.random.choice(self.n_actions)#randomly select any action\n",
    "        else:\n",
    "            return np.argmax(self.predict(np.atleast_2d(states))[0])#select the action with the maximum expected return\n",
    "    def train(self, TargetNet):\n",
    "        if len(self.experience['s']) < self.min_experiences:#don't train before a certain number of episodes\n",
    "            return 0\n",
    "        ids = np.random.randint(low=0, high=len(self.experience['s']), size=self.batch_size)\n",
    "        states = np.asarray([self.experience['s'][i] for i in ids])\n",
    "        actions = np.asarray([self.experience['a'][i] for i in ids])\n",
    "        rewards = np.asarray([self.experience['r'][i] for i in ids])\n",
    "        states_next = np.asarray([self.experience['s2'][i] for i in ids])\n",
    "        dones = np.asarray([self.experience['done'][i] for i in ids])\n",
    "        value_next = np.max(TargetNet.predict(states_next), axis=1)\n",
    "        actual_values = np.where(dones, rewards, rewards+self.gamma*value_next)\n",
    "\n",
    "        with tf.GradientTape() as tape:#calculating the loss by converting to one-hot encoding\n",
    "            selected_action_values = tf.math.reduce_sum(\n",
    "                self.predict(states) * tf.one_hot(actions, self.n_actions), axis=1)\n",
    "            loss = tf.math.reduce_mean(tf.square(actual_values - selected_action_values))\n",
    "        variables = self.model.trainable_variables\n",
    "        gradients = tape.gradient(loss, variables)\n",
    "        self.optimizer.apply_gradients(zip(gradients, variables))\n",
    "        return loss\n",
    "    def add_experience(self, exp):#adding experience to the list until the limit is reached\n",
    "        if len(self.experience['s']) >= self.max_experiences:\n",
    "            for key in self.experience.keys():\n",
    "                self.experience[key].pop(0)\n",
    "        for key, value in exp.items():\n",
    "            self.experience[key].append(value)\n",
    "\n",
    "    def copy_weights(self, TrainNet):#copying weights to the the target net\n",
    "        variables1 = self.model.trainable_variables\n",
    "        variables2 = TrainNet.model.trainable_variables\n",
    "        for v1, v2 in zip(variables1, variables2):\n",
    "            v1.assign(v2.numpy())"
   ]
  },
  {
   "cell_type": "code",
   "execution_count": 4,
   "metadata": {},
   "outputs": [],
   "source": [
    "def play_game(env, TrainNet, TargetNet, epsilon, copy_step):#playing the game using gym\n",
    "    rewards = 0\n",
    "    iter = 0\n",
    "    done = False\n",
    "    observations = env.reset()\n",
    "    losses = list()\n",
    "    while not done:\n",
    "        action = TrainNet.get_action(observations, epsilon)\n",
    "        prev_observations = observations\n",
    "        observations, reward, done, _ = env.step(action)\n",
    "        rewards += reward\n",
    "        if done:\n",
    "            reward = -200#if the it reaches the terminal state before the end of the episode\n",
    "            env.reset()\n",
    "\n",
    "        exp = {'s': prev_observations, 'a': action, 'r': reward, 's2': observations, 'done': done}\n",
    "        TrainNet.add_experience(exp)\n",
    "        loss = TrainNet.train(TargetNet)\n",
    "        if isinstance(loss, int):\n",
    "            losses.append(loss)\n",
    "        else:\n",
    "            losses.append(loss.numpy())\n",
    "        iter += 1\n",
    "        if iter % copy_step == 0:\n",
    "            TargetNet.copy_weights(TrainNet)\n",
    "    return rewards, np.mean(losses)"
   ]
  },
  {
   "cell_type": "code",
   "execution_count": 5,
   "metadata": {},
   "outputs": [],
   "source": [
    "def make_video(env, TrainNet):#recording the video\n",
    "    env = wrappers.Monitor(env, os.path.join(os.getcwd(), \"videos\"), force=True)\n",
    "    rewards = 0\n",
    "    steps = 0\n",
    "    done = False\n",
    "    observation = env.reset()\n",
    "    while not done:\n",
    "        action = TrainNet.get_action(observation, 0)\n",
    "        observation, reward, done, _ = env.step(action)\n",
    "        steps += 1\n",
    "        rewards += reward\n",
    "    print(\"Testing steps: {} rewards {}: \".format(steps, rewards))"
   ]
  },
  {
   "cell_type": "code",
   "execution_count": 6,
   "metadata": {},
   "outputs": [],
   "source": [
    "def main(a,b,c):\n",
    "    env = gym.make('CartPole-v0')\n",
    "    gamma = 0.99\n",
    "    copy_step = 25\n",
    "    num_states = len(env.observation_space.sample())\n",
    "    num_actions = env.action_space.n\n",
    "    hidden_units = [200, 200]\n",
    "    max_experiences = 10000\n",
    "    min_experiences = 100\n",
    "    batch_size = 32\n",
    "    lr = 1e-2\n",
    "    current_time = datetime.datetime.now().strftime(\"%Y%m%d-%H%M%S\")\n",
    "    log_dir = 'logs/dqn/' + current_time\n",
    "    summary_writer = tf.summary.create_file_writer(log_dir)\n",
    "    TrainNet = rl_DQN(num_states, num_actions, hidden_units, gamma, max_experiences, min_experiences, batch_size, lr)\n",
    "    TargetNet = rl_DQN(num_states, num_actions, hidden_units, gamma, max_experiences, min_experiences, batch_size, lr)\n",
    "    N = 3000\n",
    "    total_rewards = np.empty(N)\n",
    "    epsilon = 0.6\n",
    "    decay = 0.9999\n",
    "    min_epsilon = 0.1\n",
    "    for n in range(N):\n",
    "        epsilon = max(min_epsilon, epsilon * decay)\n",
    "        total_reward, losses = play_game(env, TrainNet, TargetNet, epsilon, copy_step)#playing the game\n",
    "        total_rewards[n] = total_reward#updating the rewards\n",
    "        avg_rewards = total_rewards[max(0, n - 100):(n + 1)].mean()#updaitng average rewards\n",
    "        a.append(total_reward)\n",
    "        b.append(avg_rewards)\n",
    "        c.append(losses)\n",
    "        with summary_writer.as_default():\n",
    "            tf.summary.scalar('episode reward', total_reward, step=n)\n",
    "            tf.summary.scalar('running avg reward(100)', avg_rewards, step=n)\n",
    "            tf.summary.scalar('average loss)', losses, step=n)\n",
    "        if n % 100 == 0:\n",
    "            print(\"episode:\", n, \"episode reward:\", total_reward, \"eps:\", epsilon, \"avg reward (last 100):\", avg_rewards,\n",
    "                  \"episode loss: \", losses)\n",
    "    make_video(env, TrainNet)\n",
    "    print(\"avg reward for last 100 episodes:\", avg_rewards)\n",
    "    #make_video(env, TrainNet)\n",
    "    env.close()"
   ]
  },
  {
   "cell_type": "code",
   "execution_count": 7,
   "metadata": {},
   "outputs": [
    {
     "name": "stdout",
     "output_type": "stream",
     "text": [
      "episode: 0 episode reward: 63.0 eps: 0.59994 avg reward (last 100): 63.0 episode loss:  0.0\n",
      "episode: 100 episode reward: 97.0 eps: 0.5939702002545015 avg reward (last 100): 41.277227722772274 episode loss:  232.06715\n",
      "episode: 200 episode reward: 27.0 eps: 0.5880598039643506 avg reward (last 100): 40.45544554455446 episode loss:  607.8843\n",
      "episode: 300 episode reward: 11.0 eps: 0.5822082200258831 avg reward (last 100): 39.26732673267327 episode loss:  372.20715\n",
      "episode: 400 episode reward: 14.0 eps: 0.5764148632173062 avg reward (last 100): 30.08910891089109 episode loss:  1555.1932\n",
      "episode: 500 episode reward: 24.0 eps: 0.5706791541401719 avg reward (last 100): 29.861386138613863 episode loss:  741.0923\n",
      "episode: 600 episode reward: 19.0 eps: 0.5650005191614286 avg reward (last 100): 29.861386138613863 episode loss:  252.30937\n",
      "episode: 700 episode reward: 45.0 eps: 0.5593783903560536 avg reward (last 100): 26.128712871287128 episode loss:  432.2489\n",
      "episode: 800 episode reward: 12.0 eps: 0.5538122054502553 avg reward (last 100): 27.0 episode loss:  752.9311\n",
      "episode: 900 episode reward: 27.0 eps: 0.548301407765235 avg reward (last 100): 27.198019801980198 episode loss:  797.5177\n",
      "episode: 1000 episode reward: 12.0 eps: 0.5428454461615195 avg reward (last 100): 25.435643564356436 episode loss:  313.88867\n",
      "episode: 1100 episode reward: 20.0 eps: 0.537443774983835 avg reward (last 100): 25.782178217821784 episode loss:  230.73393\n",
      "episode: 1200 episode reward: 16.0 eps: 0.5320958540065409 avg reward (last 100): 27.346534653465348 episode loss:  445.21722\n",
      "episode: 1300 episode reward: 15.0 eps: 0.5268011483795964 avg reward (last 100): 36.81188118811881 episode loss:  597.10815\n",
      "episode: 1400 episode reward: 29.0 eps: 0.5215591285750747 avg reward (last 100): 28.495049504950494 episode loss:  89.75532\n",
      "episode: 1500 episode reward: 11.0 eps: 0.5163692703342005 avg reward (last 100): 34.475247524752476 episode loss:  345.99622\n",
      "episode: 1600 episode reward: 9.0 eps: 0.5112310546149217 avg reward (last 100): 30.26732673267327 episode loss:  173.80766\n",
      "episode: 1700 episode reward: 62.0 eps: 0.5061439675399956 avg reward (last 100): 25.346534653465348 episode loss:  434.1949\n",
      "episode: 1800 episode reward: 32.0 eps: 0.5011075003456001 avg reward (last 100): 29.415841584158414 episode loss:  215.46951\n",
      "episode: 1900 episode reward: 23.0 eps: 0.4961211493304476 avg reward (last 100): 28.15841584158416 episode loss:  179.92812\n",
      "episode: 2000 episode reward: 13.0 eps: 0.49118441580541305 avg reward (last 100): 26.445544554455445 episode loss:  827.7859\n",
      "episode: 2100 episode reward: 13.0 eps: 0.4862968060436572 avg reward (last 100): 22.455445544554454 episode loss:  342.84982\n",
      "episode: 2200 episode reward: 103.0 eps: 0.48145783123124913 avg reward (last 100): 31.871287128712872 episode loss:  404.4059\n",
      "episode: 2300 episode reward: 17.0 eps: 0.4766670074182804 avg reward (last 100): 26.673267326732674 episode loss:  254.28734\n",
      "episode: 2400 episode reward: 18.0 eps: 0.47192385547046367 avg reward (last 100): 31.386138613861387 episode loss:  593.60675\n",
      "episode: 2500 episode reward: 27.0 eps: 0.46722790102121486 avg reward (last 100): 27.07920792079208 episode loss:  450.9181\n",
      "episode: 2600 episode reward: 17.0 eps: 0.4625786744242117 avg reward (last 100): 30.495049504950494 episode loss:  434.92606\n",
      "episode: 2700 episode reward: 16.0 eps: 0.45797571070642223 avg reward (last 100): 31.534653465346533 episode loss:  514.5147\n",
      "episode: 2800 episode reward: 21.0 eps: 0.4534185495216045 avg reward (last 100): 26.435643564356436 episode loss:  344.5389\n",
      "episode: 2900 episode reward: 33.0 eps: 0.4489067351042652 avg reward (last 100): 25.73267326732673 episode loss:  380.35712\n",
      "Testing steps: 107 rewards 107.0: \n",
      "avg reward for last 100 episodes: 31.099009900990097\n"
     ]
    }
   ],
   "source": [
    "total_rewards = []\n",
    "average_rewards = []\n",
    "losses = []\n",
    "main(total_rewards,average_rewards,losses)"
   ]
  },
  {
   "cell_type": "code",
   "execution_count": 8,
   "metadata": {},
   "outputs": [
    {
     "data": {
      "text/plain": [
       "Text(0.5, 1.0, 'Losses')"
      ]
     },
     "execution_count": 8,
     "metadata": {},
     "output_type": "execute_result"
    },
    {
     "data": {
      "image/png": "[encoded data removed]",
      "text/plain": [
       "<Figure size 432x288 with 3 Axes>"
      ]
     },
     "metadata": {
      "needs_background": "light"
     },
     "output_type": "display_data"
    }
   ],
   "source": [
    "import matplotlib.pyplot as plt\n",
    "fig, axs = plt.subplots(3)\n",
    "fig.tight_layout(pad=3.0)\n",
    "fig.suptitle('Indicators')\n",
    "axs[0].plot(total_rewards)\n",
    "axs[0].set_title('Total Rewards')\n",
    "axs[1].plot(average_rewards)\n",
    "axs[1].set_title('Average Rewards')\n",
    "axs[2].plot(losses)\n",
    "axs[2].set_title('Losses')\n"
   ]
  },
  {
   "cell_type": "code",
   "execution_count": null,
   "metadata": {},
   "outputs": [],
   "source": []
  }
 ],
 "metadata": {
  "kernelspec": {
   "display_name": "Python 3",
   "language": "python",
   "name": "python3"
  },
  "language_info": {
   "codemirror_mode": {
    "name": "ipython",
    "version": 3
   },
   "file_extension": ".py",
   "mimetype": "text/x-python",
   "name": "python",
   "nbconvert_exporter": "python",
   "pygments_lexer": "ipython3",
   "version": "3.6.9"
  }
 },
 "nbformat": 4,
 "nbformat_minor": 4
}
